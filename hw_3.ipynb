{
 "cells": [
  {
   "cell_type": "code",
   "execution_count": 5,
   "id": "003483bc",
   "metadata": {
    "ExecuteTime": {
     "start_time": "2023-04-12T10:52:49.399787Z",
     "end_time": "2023-04-12T10:52:53.070823Z"
    }
   },
   "outputs": [],
   "source": [
    "import pandas as pd\n",
    "import numpy as np\n",
    "import matplotlib.pyplot as plt\n",
    "\n",
    "taxiDB = pd.read_csv('taxi_dataset.csv')"
   ]
  },
  {
   "cell_type": "code",
   "execution_count": 6,
   "id": "66a57e94",
   "metadata": {
    "ExecuteTime": {
     "start_time": "2023-04-12T10:52:53.828667Z",
     "end_time": "2023-04-12T10:52:53.862007Z"
    }
   },
   "outputs": [
    {
     "data": {
      "text/plain": "          id  vendor_id      pickup_datetime     dropoff_datetime   \n0  id2875421          2  2016-03-14 17:24:55  2016-03-14 17:32:30  \\\n1  id2377394          1  2016-06-12 00:43:35  2016-06-12 00:54:38   \n2  id3858529          2  2016-01-19 11:35:24  2016-01-19 12:10:48   \n3  id3504673          2  2016-04-06 19:32:31  2016-04-06 19:39:40   \n4  id2181028          2  2016-03-26 13:30:55  2016-03-26 13:38:10   \n\n   passenger_count  pickup_longitude  pickup_latitude  dropoff_longitude   \n0                1        -73.982155        40.767937         -73.964630  \\\n1                1        -73.980415        40.738564         -73.999481   \n2                1        -73.979027        40.763939         -74.005333   \n3                1        -74.010040        40.719971         -74.012268   \n4                1        -73.973053        40.793209         -73.972923   \n\n   dropoff_latitude store_and_fwd_flag  \n0         40.765602                  N  \n1         40.731152                  N  \n2         40.710087                  N  \n3         40.706718                  N  \n4         40.782520                  N  ",
      "text/html": "<div>\n<style scoped>\n    .dataframe tbody tr th:only-of-type {\n        vertical-align: middle;\n    }\n\n    .dataframe tbody tr th {\n        vertical-align: top;\n    }\n\n    .dataframe thead th {\n        text-align: right;\n    }\n</style>\n<table border=\"1\" class=\"dataframe\">\n  <thead>\n    <tr style=\"text-align: right;\">\n      <th></th>\n      <th>id</th>\n      <th>vendor_id</th>\n      <th>pickup_datetime</th>\n      <th>dropoff_datetime</th>\n      <th>passenger_count</th>\n      <th>pickup_longitude</th>\n      <th>pickup_latitude</th>\n      <th>dropoff_longitude</th>\n      <th>dropoff_latitude</th>\n      <th>store_and_fwd_flag</th>\n    </tr>\n  </thead>\n  <tbody>\n    <tr>\n      <th>0</th>\n      <td>id2875421</td>\n      <td>2</td>\n      <td>2016-03-14 17:24:55</td>\n      <td>2016-03-14 17:32:30</td>\n      <td>1</td>\n      <td>-73.982155</td>\n      <td>40.767937</td>\n      <td>-73.964630</td>\n      <td>40.765602</td>\n      <td>N</td>\n    </tr>\n    <tr>\n      <th>1</th>\n      <td>id2377394</td>\n      <td>1</td>\n      <td>2016-06-12 00:43:35</td>\n      <td>2016-06-12 00:54:38</td>\n      <td>1</td>\n      <td>-73.980415</td>\n      <td>40.738564</td>\n      <td>-73.999481</td>\n      <td>40.731152</td>\n      <td>N</td>\n    </tr>\n    <tr>\n      <th>2</th>\n      <td>id3858529</td>\n      <td>2</td>\n      <td>2016-01-19 11:35:24</td>\n      <td>2016-01-19 12:10:48</td>\n      <td>1</td>\n      <td>-73.979027</td>\n      <td>40.763939</td>\n      <td>-74.005333</td>\n      <td>40.710087</td>\n      <td>N</td>\n    </tr>\n    <tr>\n      <th>3</th>\n      <td>id3504673</td>\n      <td>2</td>\n      <td>2016-04-06 19:32:31</td>\n      <td>2016-04-06 19:39:40</td>\n      <td>1</td>\n      <td>-74.010040</td>\n      <td>40.719971</td>\n      <td>-74.012268</td>\n      <td>40.706718</td>\n      <td>N</td>\n    </tr>\n    <tr>\n      <th>4</th>\n      <td>id2181028</td>\n      <td>2</td>\n      <td>2016-03-26 13:30:55</td>\n      <td>2016-03-26 13:38:10</td>\n      <td>1</td>\n      <td>-73.973053</td>\n      <td>40.793209</td>\n      <td>-73.972923</td>\n      <td>40.782520</td>\n      <td>N</td>\n    </tr>\n  </tbody>\n</table>\n</div>"
     },
     "execution_count": 6,
     "metadata": {},
     "output_type": "execute_result"
    }
   ],
   "source": [
    "taxiDB.head(5)"
   ]
  },
  {
   "cell_type": "markdown",
   "id": "51c6fecf",
   "metadata": {},
   "source": [
    "<dl>\n",
    "<dt> Описание колонок:\n",
    "<dd>id - ID поездки </dd>\n",
    "<dd>vendor_id - ID компании, осуществляющей перевозку </dd>\n",
    "<dd>pickup_datetime - Таймкод начала поездки</dd>\n",
    "<dd>dropoff_datetime - Таймкод конца поездки </dd>\n",
    "<dd>passenger_count - Количество пассажиров </dd>\n",
    "<dd>pickup_longitude - Долгота точки, в которой началась поездка </dd>\n",
    "<dd>pickup_latitude - Широта точки, в которой началась поездка </dd>\n",
    "<dd>dropoff_longitude - Долгота точки, в которой закончилась поездка </dd>\n",
    "<dd>dropoff_latitude - Широта точки, в которой закончилась поездка </dd>\n",
    "<dd>store_and_fwd_flag - Yes/No: Была ли информация сохранена в памяти транспортного средства из-за потери соединения с сервером </dd>\n",
    "</dl>\n",
    "\n",
    "Создаем таргет, в моем случаи это время поездки\n"
   ]
  },
  {
   "cell_type": "code",
   "execution_count": 7,
   "id": "559e840d",
   "metadata": {
    "ExecuteTime": {
     "start_time": "2023-04-12T10:52:56.985595Z",
     "end_time": "2023-04-12T10:52:59.717101Z"
    }
   },
   "outputs": [],
   "source": [
    "taxiDB['dropoff_datetime'] = pd.to_datetime(taxiDB['dropoff_datetime'])\n",
    "taxiDB['pickup_datetime'] = pd.to_datetime(taxiDB['pickup_datetime'])\n",
    "taxiDB['trip_duration'] = (taxiDB['dropoff_datetime'] - taxiDB['pickup_datetime']).dt.total_seconds()"
   ]
  },
  {
   "cell_type": "markdown",
   "id": "e89a2201",
   "metadata": {},
   "source": [
    "Предсказывая таргет для новых объектов в будущем, мы не будем заранее знать **dropoff_datetime**.\n",
    "\n",
    "Удалим колонку из датасета."
   ]
  },
  {
   "cell_type": "code",
   "execution_count": 8,
   "id": "1cff13cb",
   "metadata": {
    "ExecuteTime": {
     "start_time": "2023-04-12T10:52:59.717101Z",
     "end_time": "2023-04-12T10:52:59.790155Z"
    }
   },
   "outputs": [],
   "source": [
    "taxiDB = taxiDB.drop(['dropoff_datetime'], axis=1)"
   ]
  },
  {
   "cell_type": "markdown",
   "id": "98985ea9",
   "metadata": {},
   "source": [
    "Переведем vendor_id во множество {0, 1}"
   ]
  },
  {
   "cell_type": "code",
   "execution_count": 9,
   "id": "8aa1f66c",
   "metadata": {
    "ExecuteTime": {
     "start_time": "2023-04-12T10:52:59.960168Z",
     "end_time": "2023-04-12T10:52:59.983636Z"
    }
   },
   "outputs": [],
   "source": [
    "taxiDB['vendor_id'] = taxiDB['vendor_id'] - 1"
   ]
  },
  {
   "cell_type": "markdown",
   "id": "c63d6264",
   "metadata": {},
   "source": [
    "Переведем store_and_fwd_flag во множество {0, 1}"
   ]
  },
  {
   "cell_type": "code",
   "execution_count": 10,
   "id": "3c488306",
   "metadata": {
    "ExecuteTime": {
     "start_time": "2023-04-12T10:53:02.311863Z",
     "end_time": "2023-04-12T10:53:02.732270Z"
    }
   },
   "outputs": [
    {
     "data": {
      "text/plain": "store_and_fwd_flag\n0    1450599\n1       8045\nName: count, dtype: int64"
     },
     "execution_count": 10,
     "metadata": {},
     "output_type": "execute_result"
    }
   ],
   "source": [
    "taxiDB['store_and_fwd_flag'] = taxiDB['store_and_fwd_flag'].apply(lambda x: 0 if x == 'N' else 1)\n",
    "taxiDB['store_and_fwd_flag'].value_counts()\n"
   ]
  },
  {
   "cell_type": "markdown",
   "id": "d96a969e",
   "metadata": {},
   "source": [
    "Посчитаем Евклидово расстояние между точками подбора пассажира и точкой конца поездки.\n",
    "https://www.datafix.com.au/BASHing/2018-11-07.html"
   ]
  },
  {
   "cell_type": "code",
   "execution_count": 11,
   "id": "282e84e3",
   "metadata": {
    "ExecuteTime": {
     "start_time": "2023-04-12T10:53:04.731048Z",
     "end_time": "2023-04-12T10:53:06.888163Z"
    }
   },
   "outputs": [
    {
     "data": {
      "text/plain": "          id  vendor_id     pickup_datetime  passenger_count   \n0  id2875421          1 2016-03-14 17:24:55                1  \\\n1  id2377394          0 2016-06-12 00:43:35                1   \n2  id3858529          1 2016-01-19 11:35:24                1   \n3  id3504673          1 2016-04-06 19:32:31                1   \n4  id2181028          1 2016-03-26 13:30:55                1   \n5  id0801584          1 2016-01-30 22:01:40                6   \n6  id1813257          0 2016-06-17 22:34:59                4   \n7  id1324603          1 2016-05-21 07:54:58                1   \n8  id1301050          0 2016-05-27 23:12:23                1   \n9  id0012891          1 2016-03-10 21:45:01                1   \n\n   pickup_longitude  pickup_latitude  dropoff_longitude  dropoff_latitude   \n0         -0.110015         1.516008           1.367786          1.256121  \\\n1          0.036672        -1.753813          -1.571088         -2.578912   \n2          0.153763         1.070973          -2.064547         -4.923841   \n3         -2.461500        -3.823568          -2.649362         -5.298809   \n4          0.657515         4.329328           0.668452          3.139453   \n5         -0.169204        -1.349544          -0.947028         -0.571582   \n6          0.997853         0.391954           1.977049          1.288819   \n7          0.975979         4.838061           4.923001          0.694731   \n8         -1.571088        -1.772073          -0.416255         -2.393764   \n9         -0.016727        -1.110890           0.662019          3.970922   \n\n   store_and_fwd_flag  trip_duration  distance_km  \n0                   0          455.0     1.500479  \n1                   0          663.0     1.807119  \n2                   0         2124.0     6.392080  \n3                   0          429.0     1.487155  \n4                   0          435.0     1.189925  \n5                   0          443.0     1.100107  \n6                   0          341.0     1.327852  \n7                   0         1551.0     5.722427  \n8                   0          255.0     1.311541  \n9                   0         1225.0     5.126939  ",
      "text/html": "<div>\n<style scoped>\n    .dataframe tbody tr th:only-of-type {\n        vertical-align: middle;\n    }\n\n    .dataframe tbody tr th {\n        vertical-align: top;\n    }\n\n    .dataframe thead th {\n        text-align: right;\n    }\n</style>\n<table border=\"1\" class=\"dataframe\">\n  <thead>\n    <tr style=\"text-align: right;\">\n      <th></th>\n      <th>id</th>\n      <th>vendor_id</th>\n      <th>pickup_datetime</th>\n      <th>passenger_count</th>\n      <th>pickup_longitude</th>\n      <th>pickup_latitude</th>\n      <th>dropoff_longitude</th>\n      <th>dropoff_latitude</th>\n      <th>store_and_fwd_flag</th>\n      <th>trip_duration</th>\n      <th>distance_km</th>\n    </tr>\n  </thead>\n  <tbody>\n    <tr>\n      <th>0</th>\n      <td>id2875421</td>\n      <td>1</td>\n      <td>2016-03-14 17:24:55</td>\n      <td>1</td>\n      <td>-0.110015</td>\n      <td>1.516008</td>\n      <td>1.367786</td>\n      <td>1.256121</td>\n      <td>0</td>\n      <td>455.0</td>\n      <td>1.500479</td>\n    </tr>\n    <tr>\n      <th>1</th>\n      <td>id2377394</td>\n      <td>0</td>\n      <td>2016-06-12 00:43:35</td>\n      <td>1</td>\n      <td>0.036672</td>\n      <td>-1.753813</td>\n      <td>-1.571088</td>\n      <td>-2.578912</td>\n      <td>0</td>\n      <td>663.0</td>\n      <td>1.807119</td>\n    </tr>\n    <tr>\n      <th>2</th>\n      <td>id3858529</td>\n      <td>1</td>\n      <td>2016-01-19 11:35:24</td>\n      <td>1</td>\n      <td>0.153763</td>\n      <td>1.070973</td>\n      <td>-2.064547</td>\n      <td>-4.923841</td>\n      <td>0</td>\n      <td>2124.0</td>\n      <td>6.392080</td>\n    </tr>\n    <tr>\n      <th>3</th>\n      <td>id3504673</td>\n      <td>1</td>\n      <td>2016-04-06 19:32:31</td>\n      <td>1</td>\n      <td>-2.461500</td>\n      <td>-3.823568</td>\n      <td>-2.649362</td>\n      <td>-5.298809</td>\n      <td>0</td>\n      <td>429.0</td>\n      <td>1.487155</td>\n    </tr>\n    <tr>\n      <th>4</th>\n      <td>id2181028</td>\n      <td>1</td>\n      <td>2016-03-26 13:30:55</td>\n      <td>1</td>\n      <td>0.657515</td>\n      <td>4.329328</td>\n      <td>0.668452</td>\n      <td>3.139453</td>\n      <td>0</td>\n      <td>435.0</td>\n      <td>1.189925</td>\n    </tr>\n    <tr>\n      <th>5</th>\n      <td>id0801584</td>\n      <td>1</td>\n      <td>2016-01-30 22:01:40</td>\n      <td>6</td>\n      <td>-0.169204</td>\n      <td>-1.349544</td>\n      <td>-0.947028</td>\n      <td>-0.571582</td>\n      <td>0</td>\n      <td>443.0</td>\n      <td>1.100107</td>\n    </tr>\n    <tr>\n      <th>6</th>\n      <td>id1813257</td>\n      <td>0</td>\n      <td>2016-06-17 22:34:59</td>\n      <td>4</td>\n      <td>0.997853</td>\n      <td>0.391954</td>\n      <td>1.977049</td>\n      <td>1.288819</td>\n      <td>0</td>\n      <td>341.0</td>\n      <td>1.327852</td>\n    </tr>\n    <tr>\n      <th>7</th>\n      <td>id1324603</td>\n      <td>1</td>\n      <td>2016-05-21 07:54:58</td>\n      <td>1</td>\n      <td>0.975979</td>\n      <td>4.838061</td>\n      <td>4.923001</td>\n      <td>0.694731</td>\n      <td>0</td>\n      <td>1551.0</td>\n      <td>5.722427</td>\n    </tr>\n    <tr>\n      <th>8</th>\n      <td>id1301050</td>\n      <td>0</td>\n      <td>2016-05-27 23:12:23</td>\n      <td>1</td>\n      <td>-1.571088</td>\n      <td>-1.772073</td>\n      <td>-0.416255</td>\n      <td>-2.393764</td>\n      <td>0</td>\n      <td>255.0</td>\n      <td>1.311541</td>\n    </tr>\n    <tr>\n      <th>9</th>\n      <td>id0012891</td>\n      <td>1</td>\n      <td>2016-03-10 21:45:01</td>\n      <td>1</td>\n      <td>-0.016727</td>\n      <td>-1.110890</td>\n      <td>0.662019</td>\n      <td>3.970922</td>\n      <td>0</td>\n      <td>1225.0</td>\n      <td>5.126939</td>\n    </tr>\n  </tbody>\n</table>\n</div>"
     },
     "execution_count": 11,
     "metadata": {},
     "output_type": "execute_result"
    }
   ],
   "source": [
    "allLat  = list(taxiDB['pickup_latitude']) + list(taxiDB['dropoff_latitude'])\n",
    "medianLat  = sorted(allLat)[int(len(allLat)/2)]\n",
    "latMultiplier  = 111.32\n",
    "\n",
    "taxiDB['pickup_latitude']   = latMultiplier  * (taxiDB['pickup_latitude']   - medianLat)\n",
    "taxiDB['dropoff_latitude']   = latMultiplier  * (taxiDB['dropoff_latitude']  - medianLat)\n",
    "allLong = list(taxiDB['pickup_longitude']) + list(taxiDB['dropoff_longitude'])\n",
    "medianLong  = sorted(allLong)[int(len(allLong)/2)]\n",
    "longMultiplier = np.cos(medianLat*(np.pi/180.0)) * 111.32\n",
    "taxiDB['pickup_longitude']   = longMultiplier  * (taxiDB['pickup_longitude']   - medianLong)\n",
    "taxiDB['dropoff_longitude']   = longMultiplier  * (taxiDB['dropoff_longitude']  - medianLong)\n",
    "taxiDB['distance_km'] = ((taxiDB['dropoff_latitude'] - taxiDB['pickup_latitude'])**2 + (taxiDB['dropoff_longitude'] - taxiDB['pickup_longitude'])**2)**(1/2)\n",
    "taxiDB.head(10)"
   ]
  },
  {
   "cell_type": "markdown",
   "id": "993bfa66",
   "metadata": {},
   "source": [
    "Уберем старые признаки"
   ]
  },
  {
   "cell_type": "code",
   "execution_count": 12,
   "id": "500b6170",
   "metadata": {
    "ExecuteTime": {
     "start_time": "2023-04-12T10:53:07.544125Z",
     "end_time": "2023-04-12T10:53:07.609435Z"
    }
   },
   "outputs": [],
   "source": [
    "taxiDB = taxiDB.drop(['pickup_longitude', 'dropoff_longitude',\n",
    "                      'pickup_latitude', 'dropoff_latitude'], axis=1)"
   ]
  },
  {
   "cell_type": "markdown",
   "source": [
    "Сохраним датасет с категориальными признаками для использования его в градиентном бустинге"
   ],
   "metadata": {
    "collapsed": false
   }
  },
  {
   "cell_type": "code",
   "execution_count": 13,
   "id": "1aab1541",
   "metadata": {
    "ExecuteTime": {
     "start_time": "2023-04-12T10:53:09.205508Z",
     "end_time": "2023-04-12T10:53:09.363789Z"
    }
   },
   "outputs": [
    {
     "data": {
      "text/plain": "passenger_count\n1    1033540\n2     210318\n5      78088\n3      59896\n6      48333\n4      28404\n0         60\n7          3\n9          1\n8          1\nName: count, dtype: int64"
     },
     "execution_count": 13,
     "metadata": {},
     "output_type": "execute_result"
    }
   ],
   "source": [
    "taxiDB_for_lgb = taxiDB.copy()\n",
    "taxiDB_for_lgb = taxiDB_for_lgb.set_index('id')\n",
    "taxiDB['passenger_count'].value_counts()"
   ]
  },
  {
   "cell_type": "markdown",
   "id": "5aa24928",
   "metadata": {},
   "source": [
    "\n",
    "\n",
    "Реализуем mean-target encoding, заменив колонку passenger_count колонкой category_encoded."
   ]
  },
  {
   "cell_type": "code",
   "execution_count": 14,
   "id": "9a04a6ad",
   "metadata": {
    "ExecuteTime": {
     "start_time": "2023-04-12T10:53:11.590407Z",
     "end_time": "2023-04-12T10:53:11.719476Z"
    }
   },
   "outputs": [],
   "source": [
    "taxiDB['passenger_count'] = taxiDB['passenger_count'].map(taxiDB.groupby(['passenger_count'])['trip_duration'].mean())\n",
    "taxiDB = taxiDB.rename(columns={'passenger_count': 'category_encoded'})"
   ]
  },
  {
   "cell_type": "code",
   "execution_count": 15,
   "id": "bd3af15d",
   "metadata": {
    "ExecuteTime": {
     "start_time": "2023-04-12T10:53:12.108436Z",
     "end_time": "2023-04-12T10:53:12.181483Z"
    }
   },
   "outputs": [
    {
     "data": {
      "text/plain": "           vendor_id     pickup_datetime  category_encoded   \nid                                                           \nid2875421          1 2016-03-14 17:24:55        930.399753  \\\nid2377394          0 2016-06-12 00:43:35        930.399753   \nid3858529          1 2016-01-19 11:35:24        930.399753   \nid3504673          1 2016-04-06 19:32:31        930.399753   \nid2181028          1 2016-03-26 13:30:55        930.399753   \nid0801584          1 2016-01-30 22:01:40       1061.355223   \nid1813257          0 2016-06-17 22:34:59       1053.529749   \nid1324603          1 2016-05-21 07:54:58        930.399753   \nid1301050          0 2016-05-27 23:12:23        930.399753   \nid0012891          1 2016-03-10 21:45:01        930.399753   \n\n           store_and_fwd_flag  trip_duration  distance_km  \nid                                                         \nid2875421                   0          455.0     1.500479  \nid2377394                   0          663.0     1.807119  \nid3858529                   0         2124.0     6.392080  \nid3504673                   0          429.0     1.487155  \nid2181028                   0          435.0     1.189925  \nid0801584                   0          443.0     1.100107  \nid1813257                   0          341.0     1.327852  \nid1324603                   0         1551.0     5.722427  \nid1301050                   0          255.0     1.311541  \nid0012891                   0         1225.0     5.126939  ",
      "text/html": "<div>\n<style scoped>\n    .dataframe tbody tr th:only-of-type {\n        vertical-align: middle;\n    }\n\n    .dataframe tbody tr th {\n        vertical-align: top;\n    }\n\n    .dataframe thead th {\n        text-align: right;\n    }\n</style>\n<table border=\"1\" class=\"dataframe\">\n  <thead>\n    <tr style=\"text-align: right;\">\n      <th></th>\n      <th>vendor_id</th>\n      <th>pickup_datetime</th>\n      <th>category_encoded</th>\n      <th>store_and_fwd_flag</th>\n      <th>trip_duration</th>\n      <th>distance_km</th>\n    </tr>\n    <tr>\n      <th>id</th>\n      <th></th>\n      <th></th>\n      <th></th>\n      <th></th>\n      <th></th>\n      <th></th>\n    </tr>\n  </thead>\n  <tbody>\n    <tr>\n      <th>id2875421</th>\n      <td>1</td>\n      <td>2016-03-14 17:24:55</td>\n      <td>930.399753</td>\n      <td>0</td>\n      <td>455.0</td>\n      <td>1.500479</td>\n    </tr>\n    <tr>\n      <th>id2377394</th>\n      <td>0</td>\n      <td>2016-06-12 00:43:35</td>\n      <td>930.399753</td>\n      <td>0</td>\n      <td>663.0</td>\n      <td>1.807119</td>\n    </tr>\n    <tr>\n      <th>id3858529</th>\n      <td>1</td>\n      <td>2016-01-19 11:35:24</td>\n      <td>930.399753</td>\n      <td>0</td>\n      <td>2124.0</td>\n      <td>6.392080</td>\n    </tr>\n    <tr>\n      <th>id3504673</th>\n      <td>1</td>\n      <td>2016-04-06 19:32:31</td>\n      <td>930.399753</td>\n      <td>0</td>\n      <td>429.0</td>\n      <td>1.487155</td>\n    </tr>\n    <tr>\n      <th>id2181028</th>\n      <td>1</td>\n      <td>2016-03-26 13:30:55</td>\n      <td>930.399753</td>\n      <td>0</td>\n      <td>435.0</td>\n      <td>1.189925</td>\n    </tr>\n    <tr>\n      <th>id0801584</th>\n      <td>1</td>\n      <td>2016-01-30 22:01:40</td>\n      <td>1061.355223</td>\n      <td>0</td>\n      <td>443.0</td>\n      <td>1.100107</td>\n    </tr>\n    <tr>\n      <th>id1813257</th>\n      <td>0</td>\n      <td>2016-06-17 22:34:59</td>\n      <td>1053.529749</td>\n      <td>0</td>\n      <td>341.0</td>\n      <td>1.327852</td>\n    </tr>\n    <tr>\n      <th>id1324603</th>\n      <td>1</td>\n      <td>2016-05-21 07:54:58</td>\n      <td>930.399753</td>\n      <td>0</td>\n      <td>1551.0</td>\n      <td>5.722427</td>\n    </tr>\n    <tr>\n      <th>id1301050</th>\n      <td>0</td>\n      <td>2016-05-27 23:12:23</td>\n      <td>930.399753</td>\n      <td>0</td>\n      <td>255.0</td>\n      <td>1.311541</td>\n    </tr>\n    <tr>\n      <th>id0012891</th>\n      <td>1</td>\n      <td>2016-03-10 21:45:01</td>\n      <td>930.399753</td>\n      <td>0</td>\n      <td>1225.0</td>\n      <td>5.126939</td>\n    </tr>\n  </tbody>\n</table>\n</div>"
     },
     "execution_count": 15,
     "metadata": {},
     "output_type": "execute_result"
    }
   ],
   "source": [
    "taxiDB = taxiDB.set_index('id')\n",
    "taxiDB.head(10)"
   ]
  },
  {
   "cell_type": "code",
   "execution_count": 16,
   "id": "7433a5f9",
   "metadata": {
    "ExecuteTime": {
     "start_time": "2023-04-12T10:53:12.625183Z",
     "end_time": "2023-04-12T10:53:14.493880Z"
    }
   },
   "outputs": [
    {
     "name": "stdout",
     "output_type": "stream",
     "text": [
      "vendor_id 192.14570788872823\n",
      "category_encoded 0.28028146609588767\n",
      "store_and_fwd_flag 57.32495444699315\n",
      "distance_km 113.26084039511377\n",
      "197.14834848566034\n"
     ]
    }
   ],
   "source": [
    "from sklearn.linear_model import LinearRegression\n",
    "from sklearn.model_selection import train_test_split\n",
    "X = taxiDB.drop(['trip_duration', 'pickup_datetime'], axis=1)\n",
    "y = taxiDB['trip_duration']\n",
    "\n",
    "X_train, X_test, y_train, y_test = train_test_split(\n",
    "    X, y, test_size=0.2, random_state=42)\n",
    "\n",
    "model=LinearRegression()\n",
    "model.fit(X_train, y_train)\n",
    "for column, coef in zip(X_train.columns, model.coef_):\n",
    "    print(column, coef)\n",
    "print(model.intercept_)\n",
    "predicitions = model.predict(X_train)"
   ]
  },
  {
   "cell_type": "code",
   "execution_count": 17,
   "id": "5620ba3f",
   "metadata": {
    "ExecuteTime": {
     "start_time": "2023-04-12T10:53:14.493880Z",
     "end_time": "2023-04-12T10:53:14.701838Z"
    }
   },
   "outputs": [
    {
     "name": "stdout",
     "output_type": "stream",
     "text": [
      "MAE = 466.459334983967\n",
      "MSE = 10317626.622787377\n",
      "r2_score = 0.025889266155565305\n"
     ]
    }
   ],
   "source": [
    "from sklearn.metrics import mean_squared_error\n",
    "from sklearn.metrics import mean_absolute_error\n",
    "from sklearn.metrics import r2_score\n",
    "\n",
    "features = X_test\n",
    "\n",
    "y_pred = model.predict(features) # предсказанное значение\n",
    "y_true = y_test # истинное значение\n",
    "\n",
    "\n",
    "print(\"MAE = %s\" % mean_absolute_error(\n",
    "    y_pred, y_true)\n",
    ")\n",
    "\n",
    "mse = mean_squared_error(y_true, y_pred)\n",
    "\n",
    "print('MSE = %s' % mse)\n",
    "\n",
    "print(\"r2_score = %s\" % r2_score(y_true, y_pred))"
   ]
  },
  {
   "cell_type": "code",
   "execution_count": 18,
   "id": "71b98c53",
   "metadata": {
    "ExecuteTime": {
     "start_time": "2023-04-12T10:53:14.701838Z",
     "end_time": "2023-04-12T10:53:14.717305Z"
    }
   },
   "outputs": [
    {
     "data": {
      "text/plain": "           trip_duration   prediction\nid                                   \nid2793718         1040.0   963.364439\nid3485529          827.0   872.218662\nid1816614          614.0   848.528425\nid1050851          867.0   895.462058\nid0140657         4967.0  2854.024252\nid2734699          374.0   748.328388\nid2151697         1252.0   948.273854\nid3635863          148.0   539.985658\nid2169697         1499.0  1374.007118\nid2225613         1017.0  1343.125562\nid1421171          958.0  1157.920965\nid2184050          230.0   558.183994\nid0088775         2971.0  2940.699479\nid2753255         1027.0   796.885638\nid0094298          579.0   803.340182\nid3555558          140.0   556.909261\nid2376644         4946.0  2903.447248\nid1230554         1167.0   718.739057\nid3608580          953.0   718.226767\nid0089807         1004.0  1284.557104",
      "text/html": "<div>\n<style scoped>\n    .dataframe tbody tr th:only-of-type {\n        vertical-align: middle;\n    }\n\n    .dataframe tbody tr th {\n        vertical-align: top;\n    }\n\n    .dataframe thead th {\n        text-align: right;\n    }\n</style>\n<table border=\"1\" class=\"dataframe\">\n  <thead>\n    <tr style=\"text-align: right;\">\n      <th></th>\n      <th>trip_duration</th>\n      <th>prediction</th>\n    </tr>\n    <tr>\n      <th>id</th>\n      <th></th>\n      <th></th>\n    </tr>\n  </thead>\n  <tbody>\n    <tr>\n      <th>id2793718</th>\n      <td>1040.0</td>\n      <td>963.364439</td>\n    </tr>\n    <tr>\n      <th>id3485529</th>\n      <td>827.0</td>\n      <td>872.218662</td>\n    </tr>\n    <tr>\n      <th>id1816614</th>\n      <td>614.0</td>\n      <td>848.528425</td>\n    </tr>\n    <tr>\n      <th>id1050851</th>\n      <td>867.0</td>\n      <td>895.462058</td>\n    </tr>\n    <tr>\n      <th>id0140657</th>\n      <td>4967.0</td>\n      <td>2854.024252</td>\n    </tr>\n    <tr>\n      <th>id2734699</th>\n      <td>374.0</td>\n      <td>748.328388</td>\n    </tr>\n    <tr>\n      <th>id2151697</th>\n      <td>1252.0</td>\n      <td>948.273854</td>\n    </tr>\n    <tr>\n      <th>id3635863</th>\n      <td>148.0</td>\n      <td>539.985658</td>\n    </tr>\n    <tr>\n      <th>id2169697</th>\n      <td>1499.0</td>\n      <td>1374.007118</td>\n    </tr>\n    <tr>\n      <th>id2225613</th>\n      <td>1017.0</td>\n      <td>1343.125562</td>\n    </tr>\n    <tr>\n      <th>id1421171</th>\n      <td>958.0</td>\n      <td>1157.920965</td>\n    </tr>\n    <tr>\n      <th>id2184050</th>\n      <td>230.0</td>\n      <td>558.183994</td>\n    </tr>\n    <tr>\n      <th>id0088775</th>\n      <td>2971.0</td>\n      <td>2940.699479</td>\n    </tr>\n    <tr>\n      <th>id2753255</th>\n      <td>1027.0</td>\n      <td>796.885638</td>\n    </tr>\n    <tr>\n      <th>id0094298</th>\n      <td>579.0</td>\n      <td>803.340182</td>\n    </tr>\n    <tr>\n      <th>id3555558</th>\n      <td>140.0</td>\n      <td>556.909261</td>\n    </tr>\n    <tr>\n      <th>id2376644</th>\n      <td>4946.0</td>\n      <td>2903.447248</td>\n    </tr>\n    <tr>\n      <th>id1230554</th>\n      <td>1167.0</td>\n      <td>718.739057</td>\n    </tr>\n    <tr>\n      <th>id3608580</th>\n      <td>953.0</td>\n      <td>718.226767</td>\n    </tr>\n    <tr>\n      <th>id0089807</th>\n      <td>1004.0</td>\n      <td>1284.557104</td>\n    </tr>\n  </tbody>\n</table>\n</div>"
     },
     "execution_count": 18,
     "metadata": {},
     "output_type": "execute_result"
    }
   ],
   "source": [
    "df = pd.DataFrame(y_true.copy())\n",
    "df['prediction'] = y_pred\n",
    "df.head(20)"
   ]
  },
  {
   "cell_type": "markdown",
   "id": "02d563fe",
   "metadata": {},
   "source": [
    "Исходя из метрик можно сказать, что моя модель плохо предсказывает время поезди на такси в секундах, ошибаясь в среднем на 466с (MAE)."
   ]
  },
  {
   "cell_type": "markdown",
   "id": "6e1cc322",
   "metadata": {},
   "source": [
    "## Лаба 4"
   ]
  },
  {
   "cell_type": "code",
   "execution_count": 19,
   "id": "835fa9fe",
   "metadata": {
    "ExecuteTime": {
     "start_time": "2023-04-12T10:53:17.449872Z",
     "end_time": "2023-04-12T10:53:23.645209Z"
    }
   },
   "outputs": [
    {
     "name": "stderr",
     "output_type": "stream",
     "text": [
      "C:\\Users\\leo\\AppData\\Local\\Programs\\Python\\Python311\\Lib\\site-packages\\lightgbm\\basic.py:1487: UserWarning: categorical_feature keyword has been found in `params` and will be ignored.\n",
      "Please use categorical_feature argument of the Dataset constructor to pass this parameter.\n",
      "  _log_warning(f'{key} keyword has been found in `params` and will be ignored.\\n'\n",
      "C:\\Users\\leo\\AppData\\Local\\Programs\\Python\\Python311\\Lib\\site-packages\\lightgbm\\basic.py:1513: UserWarning: categorical_feature in param dict is overridden.\n",
      "  _log_warning(f'{cat_alias} in param dict is overridden.')\n"
     ]
    },
    {
     "name": "stdout",
     "output_type": "stream",
     "text": [
      "Mean Squared Error: 10306220.8663\n",
      "MAE = 442.8827580495763\n",
      "r2_score = 0.02696610972113178\n"
     ]
    }
   ],
   "source": [
    "import numpy as np\n",
    "import lightgbm as lgb\n",
    "\n",
    "taxiDB_for_lgb['passenger_count'] = taxiDB_for_lgb['passenger_count'].astype('category')\n",
    "passenger_features = np.unique(taxiDB_for_lgb['passenger_count'].values, axis=0)\n",
    "\n",
    "X = taxiDB_for_lgb.drop(['trip_duration', 'pickup_datetime'], axis=1)\n",
    "y = taxiDB_for_lgb['trip_duration']\n",
    "X_train, X_test, y_train, y_test = train_test_split(\n",
    "    X, y, test_size=0.2, random_state=42)\n",
    "\n",
    "\n",
    "model = lgb.LGBMRegressor(num_leaves=31,  # Количество листьев в дереве\n",
    "                          learning_rate=0.1,  # Скорость обучения\n",
    "                          n_estimators=100,  # Количество деревьев\n",
    "                          categorical_feature=passenger_features,  # Список категориальных признаков\n",
    "                          random_state=42)  # Задаем случайное начальное состояние для воспроизводимости\n",
    "model.fit(X_train, y_train)  # Обучение модели с выводом прогресса на каждой 10-й итерации\n",
    "\n",
    "# Прогнозирование на тестовом наборе данных\n",
    "y_pred = model.predict(X_test)\n",
    "\n",
    "# Оценка качества модели\n",
    "mse = np.mean((y_test - y_pred) ** 2)  # Среднеквадратичная ошибка\n",
    "print(f\"Mean Squared Error: {mse:.4f}\")\n",
    "\n",
    "print(f\"MAE = {mean_absolute_error(y_pred, y_test)}\")\n",
    "\n",
    "print(\"r2_score = %s\" % r2_score(y_true, y_pred))"
   ]
  },
  {
   "cell_type": "markdown",
   "source": [
    "Градиентный бустинг оказался не сильно лучше обычной регрессии, поэтому можно предположить, что по заданным данным трудно точно предсказать время поездки."
   ],
   "metadata": {
    "collapsed": false
   }
  },
  {
   "cell_type": "code",
   "execution_count": null,
   "outputs": [],
   "source": [],
   "metadata": {
    "collapsed": false
   }
  }
 ],
 "metadata": {
  "kernelspec": {
   "display_name": "Python 3 (ipykernel)",
   "language": "python",
   "name": "python3"
  },
  "language_info": {
   "codemirror_mode": {
    "name": "ipython",
    "version": 3
   },
   "file_extension": ".py",
   "mimetype": "text/x-python",
   "name": "python",
   "nbconvert_exporter": "python",
   "pygments_lexer": "ipython3",
   "version": "3.11.3"
  }
 },
 "nbformat": 4,
 "nbformat_minor": 5
}
